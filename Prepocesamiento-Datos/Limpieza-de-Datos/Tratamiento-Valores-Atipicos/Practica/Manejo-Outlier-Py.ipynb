{
 "cells": [
  {
   "cell_type": "markdown",
   "metadata": {},
   "source": [
    "# Manejo de Outliers con Python\n",
    "\n",
    "Se va a realizar una práctica con la intención de descubrir la mejor manera de imputar outliers sobre el dataset `Concrete_Data.xls`.\n",
    "\n",
    "Para la realización de esta actividad se seguirán los siguientes pasos:\n",
    "\n",
    "- Carga de Librerías.\n",
    "- Lectura del Dataset y Primer Vistazo.\n",
    "- Limpieza del Dataset:\n",
    "  - Correcciones de Formato.\n",
    "  - Eliminación de Valores Ausentes.\n",
    "  - Eliminación de Duplicados.\n",
    "- Detección de Outliers.\n",
    "  - Identificación Visual.\n",
    "  - Identificación Estadística.\n",
    "- Imputación de Outliers:\n",
    "  - Media.\n",
    "  - Mediana.\n",
    "  - KNN.\n",
    "  - Regresión.\n",
    "  - Arboles.\n",
    "- Ajuste de Modelos:\n",
    "  - Regresión Lineal.\n",
    "  - KNN.\n",
    "  - Ridge Regression.\n",
    "  - Decision Tree.\n",
    "  - SVR.\n",
    "  - Random Forest.\n",
    "  - Lasso Regression.\n",
    "- Conclusiones.\n",
    "\n",
    "Y se utilizarán las siguientes librerías:\n",
    "\n",
    "- `pandas`: Para el tratamiento tabular de los datos.\n",
    "- `re`: Para usar expresiones regulares.\n",
    "- `matplotlib.pyplot`, `seaborn`: Para la graficación.\n",
    "- `sklearn`: Para el uso de imputadores, modelos de machine learning y evaluación de estos últimos.\n",
    "- `numpy`: Para el tratamiento de estructuras matemáticas y operaciones.\n",
    "- `scipy`: Para aplicar la tipificación al conjunto de datos.\n"
   ]
  },
  {
   "cell_type": "markdown",
   "metadata": {},
   "source": [
    "## Carga de las Librerías"
   ]
  },
  {
   "cell_type": "code",
   "execution_count": 1,
   "metadata": {},
   "outputs": [],
   "source": [
    "import pandas as pd\n",
    "import re\n",
    "import matplotlib.pyplot as plt\n",
    "import seaborn as sns\n",
    "from scipy.stats import zscore\n",
    "import numpy as np\n",
    "from sklearn.experimental import enable_iterative_imputer\n",
    "from sklearn.impute import KNNImputer, IterativeImputer\n",
    "from sklearn.linear_model import LinearRegression\n",
    "from sklearn.tree import DecisionTreeRegressor\n",
    "from sklearn.model_selection import train_test_split\n",
    "from sklearn.linear_model import LinearRegression, Ridge, Lasso\n",
    "from sklearn.ensemble import RandomForestRegressor\n",
    "from sklearn.neighbors import KNeighborsRegressor\n",
    "from sklearn.svm import SVR\n",
    "from sklearn.metrics import mean_squared_error, mean_absolute_error, r2_score\n",
    "import math\n",
    "\n",
    "plt.style.use('ggplot')"
   ]
  },
  {
   "cell_type": "markdown",
   "metadata": {},
   "source": [
    "## Carga del Conjunto de Datos"
   ]
  },
  {
   "cell_type": "code",
   "execution_count": 2,
   "metadata": {},
   "outputs": [
    {
     "data": {
      "text/html": [
       "<div>\n",
       "<style scoped>\n",
       "    .dataframe tbody tr th:only-of-type {\n",
       "        vertical-align: middle;\n",
       "    }\n",
       "\n",
       "    .dataframe tbody tr th {\n",
       "        vertical-align: top;\n",
       "    }\n",
       "\n",
       "    .dataframe thead th {\n",
       "        text-align: right;\n",
       "    }\n",
       "</style>\n",
       "<table border=\"1\" class=\"dataframe\">\n",
       "  <thead>\n",
       "    <tr style=\"text-align: right;\">\n",
       "      <th></th>\n",
       "      <th>Cement (component 1)(kg in a m^3 mixture)</th>\n",
       "      <th>Blast Furnace Slag (component 2)(kg in a m^3 mixture)</th>\n",
       "      <th>Fly Ash (component 3)(kg in a m^3 mixture)</th>\n",
       "      <th>Water  (component 4)(kg in a m^3 mixture)</th>\n",
       "      <th>Superplasticizer (component 5)(kg in a m^3 mixture)</th>\n",
       "      <th>Coarse Aggregate  (component 6)(kg in a m^3 mixture)</th>\n",
       "      <th>Fine Aggregate (component 7)(kg in a m^3 mixture)</th>\n",
       "      <th>Age (day)</th>\n",
       "      <th>Concrete compressive strength(MPa, megapascals)</th>\n",
       "    </tr>\n",
       "  </thead>\n",
       "  <tbody>\n",
       "    <tr>\n",
       "      <th>0</th>\n",
       "      <td>540.0</td>\n",
       "      <td>0.0</td>\n",
       "      <td>0.0</td>\n",
       "      <td>162.0</td>\n",
       "      <td>2.5</td>\n",
       "      <td>1040.0</td>\n",
       "      <td>676.0</td>\n",
       "      <td>28</td>\n",
       "      <td>79.986111</td>\n",
       "    </tr>\n",
       "    <tr>\n",
       "      <th>1</th>\n",
       "      <td>540.0</td>\n",
       "      <td>0.0</td>\n",
       "      <td>0.0</td>\n",
       "      <td>162.0</td>\n",
       "      <td>2.5</td>\n",
       "      <td>1055.0</td>\n",
       "      <td>676.0</td>\n",
       "      <td>28</td>\n",
       "      <td>61.887366</td>\n",
       "    </tr>\n",
       "    <tr>\n",
       "      <th>2</th>\n",
       "      <td>332.5</td>\n",
       "      <td>142.5</td>\n",
       "      <td>0.0</td>\n",
       "      <td>228.0</td>\n",
       "      <td>0.0</td>\n",
       "      <td>932.0</td>\n",
       "      <td>594.0</td>\n",
       "      <td>270</td>\n",
       "      <td>40.269535</td>\n",
       "    </tr>\n",
       "    <tr>\n",
       "      <th>3</th>\n",
       "      <td>332.5</td>\n",
       "      <td>142.5</td>\n",
       "      <td>0.0</td>\n",
       "      <td>228.0</td>\n",
       "      <td>0.0</td>\n",
       "      <td>932.0</td>\n",
       "      <td>594.0</td>\n",
       "      <td>365</td>\n",
       "      <td>41.052780</td>\n",
       "    </tr>\n",
       "    <tr>\n",
       "      <th>4</th>\n",
       "      <td>198.6</td>\n",
       "      <td>132.4</td>\n",
       "      <td>0.0</td>\n",
       "      <td>192.0</td>\n",
       "      <td>0.0</td>\n",
       "      <td>978.4</td>\n",
       "      <td>825.5</td>\n",
       "      <td>360</td>\n",
       "      <td>44.296075</td>\n",
       "    </tr>\n",
       "  </tbody>\n",
       "</table>\n",
       "</div>"
      ],
      "text/plain": [
       "   Cement (component 1)(kg in a m^3 mixture)  \\\n",
       "0                                      540.0   \n",
       "1                                      540.0   \n",
       "2                                      332.5   \n",
       "3                                      332.5   \n",
       "4                                      198.6   \n",
       "\n",
       "   Blast Furnace Slag (component 2)(kg in a m^3 mixture)  \\\n",
       "0                                                0.0       \n",
       "1                                                0.0       \n",
       "2                                              142.5       \n",
       "3                                              142.5       \n",
       "4                                              132.4       \n",
       "\n",
       "   Fly Ash (component 3)(kg in a m^3 mixture)  \\\n",
       "0                                         0.0   \n",
       "1                                         0.0   \n",
       "2                                         0.0   \n",
       "3                                         0.0   \n",
       "4                                         0.0   \n",
       "\n",
       "   Water  (component 4)(kg in a m^3 mixture)  \\\n",
       "0                                      162.0   \n",
       "1                                      162.0   \n",
       "2                                      228.0   \n",
       "3                                      228.0   \n",
       "4                                      192.0   \n",
       "\n",
       "   Superplasticizer (component 5)(kg in a m^3 mixture)  \\\n",
       "0                                                2.5     \n",
       "1                                                2.5     \n",
       "2                                                0.0     \n",
       "3                                                0.0     \n",
       "4                                                0.0     \n",
       "\n",
       "   Coarse Aggregate  (component 6)(kg in a m^3 mixture)  \\\n",
       "0                                             1040.0      \n",
       "1                                             1055.0      \n",
       "2                                              932.0      \n",
       "3                                              932.0      \n",
       "4                                              978.4      \n",
       "\n",
       "   Fine Aggregate (component 7)(kg in a m^3 mixture)  Age (day)  \\\n",
       "0                                              676.0         28   \n",
       "1                                              676.0         28   \n",
       "2                                              594.0        270   \n",
       "3                                              594.0        365   \n",
       "4                                              825.5        360   \n",
       "\n",
       "   Concrete compressive strength(MPa, megapascals)   \n",
       "0                                         79.986111  \n",
       "1                                         61.887366  \n",
       "2                                         40.269535  \n",
       "3                                         41.052780  \n",
       "4                                         44.296075  "
      ]
     },
     "execution_count": 2,
     "metadata": {},
     "output_type": "execute_result"
    }
   ],
   "source": [
    "# Carga del dataset\n",
    "raw_data = pd.read_excel('data/Concrete_Data.xls')\n",
    "raw_data.head()"
   ]
  },
  {
   "cell_type": "code",
   "execution_count": 3,
   "metadata": {},
   "outputs": [
    {
     "data": {
      "text/plain": [
       "Cement (component 1)(kg in a m^3 mixture)                0\n",
       "Blast Furnace Slag (component 2)(kg in a m^3 mixture)    0\n",
       "Fly Ash (component 3)(kg in a m^3 mixture)               0\n",
       "Water  (component 4)(kg in a m^3 mixture)                0\n",
       "Superplasticizer (component 5)(kg in a m^3 mixture)      0\n",
       "Coarse Aggregate  (component 6)(kg in a m^3 mixture)     0\n",
       "Fine Aggregate (component 7)(kg in a m^3 mixture)        0\n",
       "Age (day)                                                0\n",
       "Concrete compressive strength(MPa, megapascals)          0\n",
       "dtype: int64"
      ]
     },
     "execution_count": 3,
     "metadata": {},
     "output_type": "execute_result"
    }
   ],
   "source": [
    "# Conteo de Valores Ausentes\n",
    "raw_data.isna().sum()"
   ]
  },
  {
   "cell_type": "code",
   "execution_count": 4,
   "metadata": {},
   "outputs": [
    {
     "data": {
      "text/plain": [
       "25"
      ]
     },
     "execution_count": 4,
     "metadata": {},
     "output_type": "execute_result"
    }
   ],
   "source": [
    "# Conteo de Registros Duplicados\n",
    "raw_data.duplicated().sum()"
   ]
  },
  {
   "cell_type": "code",
   "execution_count": 5,
   "metadata": {},
   "outputs": [
    {
     "data": {
      "text/plain": [
       "(1030, 9)"
      ]
     },
     "execution_count": 5,
     "metadata": {},
     "output_type": "execute_result"
    }
   ],
   "source": [
    "# Dimensiones del Dataset\n",
    "raw_data.shape"
   ]
  },
  {
   "cell_type": "code",
   "execution_count": 6,
   "metadata": {},
   "outputs": [
    {
     "name": "stdout",
     "output_type": "stream",
     "text": [
      "<class 'pandas.core.frame.DataFrame'>\n",
      "RangeIndex: 1030 entries, 0 to 1029\n",
      "Data columns (total 9 columns):\n",
      " #   Column                                                 Non-Null Count  Dtype  \n",
      "---  ------                                                 --------------  -----  \n",
      " 0   Cement (component 1)(kg in a m^3 mixture)              1030 non-null   float64\n",
      " 1   Blast Furnace Slag (component 2)(kg in a m^3 mixture)  1030 non-null   float64\n",
      " 2   Fly Ash (component 3)(kg in a m^3 mixture)             1030 non-null   float64\n",
      " 3   Water  (component 4)(kg in a m^3 mixture)              1030 non-null   float64\n",
      " 4   Superplasticizer (component 5)(kg in a m^3 mixture)    1030 non-null   float64\n",
      " 5   Coarse Aggregate  (component 6)(kg in a m^3 mixture)   1030 non-null   float64\n",
      " 6   Fine Aggregate (component 7)(kg in a m^3 mixture)      1030 non-null   float64\n",
      " 7   Age (day)                                              1030 non-null   int64  \n",
      " 8   Concrete compressive strength(MPa, megapascals)        1030 non-null   float64\n",
      "dtypes: float64(8), int64(1)\n",
      "memory usage: 72.6 KB\n"
     ]
    }
   ],
   "source": [
    "# Mostrar Tipos y Nombres de las Variables que Conforman el Dataset\n",
    "raw_data.info()"
   ]
  },
  {
   "cell_type": "markdown",
   "metadata": {},
   "source": [
    "## Limpieza del Dataset\n",
    "\n",
    "Para seguir unas buenas prácticas cada vez que se modifique o actualice el dataset se renombrará y se añadira a una variable tipo `list` que contenga tuplas compuestas del dataset y un comentario sobre la modificación. Esto permitirá, entre otras cosas, el fácil acceso a las diferentes versiones del conjunto de datos."
   ]
  },
  {
   "cell_type": "code",
   "execution_count": 7,
   "metadata": {},
   "outputs": [],
   "source": [
    "# Creación de la variable de tipo lista que contenga los diferentes dataset.\n",
    "datasets = []\n",
    "datasets.append((raw_data, 'Datos Crudos'))"
   ]
  },
  {
   "cell_type": "markdown",
   "metadata": {},
   "source": [
    "### Correciones de Formato\n",
    "\n",
    "Como se puede observar, el nombre de las variables (columnas) viene con un nombre alternativo y una pequeña explicación ambas entre paréntesis. Estos elementos pueden hacer más complicada la indexación por columnas por tanto serán eliminados."
   ]
  },
  {
   "cell_type": "code",
   "execution_count": 8,
   "metadata": {},
   "outputs": [
    {
     "data": {
      "text/plain": [
       "['Cement',\n",
       " 'Blast Furnace Slag',\n",
       " 'Fly Ash',\n",
       " 'Water',\n",
       " 'Superplasticizer',\n",
       " 'Coarse Aggregate',\n",
       " 'Fine Aggregate',\n",
       " 'Age',\n",
       " 'Concrete compressive strength']"
      ]
     },
     "execution_count": 8,
     "metadata": {},
     "output_type": "execute_result"
    }
   ],
   "source": [
    "# Eliminación del sobrante de los nombres de las columnas\n",
    "# mediante expresiones regulares.\n",
    "clean_columns = [re.sub(r'\\(.*?\\)', '', col).strip() for col in raw_data.columns]\n",
    "clean_columns"
   ]
  },
  {
   "cell_type": "code",
   "execution_count": 9,
   "metadata": {},
   "outputs": [
    {
     "data": {
      "text/html": [
       "<div>\n",
       "<style scoped>\n",
       "    .dataframe tbody tr th:only-of-type {\n",
       "        vertical-align: middle;\n",
       "    }\n",
       "\n",
       "    .dataframe tbody tr th {\n",
       "        vertical-align: top;\n",
       "    }\n",
       "\n",
       "    .dataframe thead th {\n",
       "        text-align: right;\n",
       "    }\n",
       "</style>\n",
       "<table border=\"1\" class=\"dataframe\">\n",
       "  <thead>\n",
       "    <tr style=\"text-align: right;\">\n",
       "      <th></th>\n",
       "      <th>Cement</th>\n",
       "      <th>Blast Furnace Slag</th>\n",
       "      <th>Fly Ash</th>\n",
       "      <th>Water</th>\n",
       "      <th>Superplasticizer</th>\n",
       "      <th>Coarse Aggregate</th>\n",
       "      <th>Fine Aggregate</th>\n",
       "      <th>Age</th>\n",
       "      <th>Concrete compressive strength</th>\n",
       "    </tr>\n",
       "  </thead>\n",
       "  <tbody>\n",
       "    <tr>\n",
       "      <th>0</th>\n",
       "      <td>540.0</td>\n",
       "      <td>0.0</td>\n",
       "      <td>0.0</td>\n",
       "      <td>162.0</td>\n",
       "      <td>2.5</td>\n",
       "      <td>1040.0</td>\n",
       "      <td>676.0</td>\n",
       "      <td>28</td>\n",
       "      <td>79.986111</td>\n",
       "    </tr>\n",
       "  </tbody>\n",
       "</table>\n",
       "</div>"
      ],
      "text/plain": [
       "   Cement  Blast Furnace Slag  Fly Ash  Water  Superplasticizer  \\\n",
       "0   540.0                 0.0      0.0  162.0               2.5   \n",
       "\n",
       "   Coarse Aggregate  Fine Aggregate  Age  Concrete compressive strength  \n",
       "0            1040.0           676.0   28                      79.986111  "
      ]
     },
     "execution_count": 9,
     "metadata": {},
     "output_type": "execute_result"
    }
   ],
   "source": [
    "# Actualización del Dataset con los nuevos nombres\n",
    "data_v1 = raw_data.copy()\n",
    "data_v1.columns = clean_columns\n",
    "data_v1.head(1)"
   ]
  },
  {
   "cell_type": "code",
   "execution_count": 10,
   "metadata": {},
   "outputs": [],
   "source": [
    "datasets.append((data_v1, \"Nombres cols corregidos\"))"
   ]
  },
  {
   "cell_type": "markdown",
   "metadata": {},
   "source": [
    "### Eliminación de Duplicados"
   ]
  },
  {
   "cell_type": "code",
   "execution_count": 11,
   "metadata": {},
   "outputs": [
    {
     "data": {
      "text/plain": [
       "0"
      ]
     },
     "execution_count": 11,
     "metadata": {},
     "output_type": "execute_result"
    }
   ],
   "source": [
    "# Eliminación de Registros Duplicados\n",
    "data_v2 = data_v1.copy()\n",
    "data_v2 = data_v2.drop_duplicates().reset_index(drop = True)\n",
    "data_v2.duplicated().sum()"
   ]
  },
  {
   "cell_type": "code",
   "execution_count": 12,
   "metadata": {},
   "outputs": [
    {
     "data": {
      "text/plain": [
       "(1005, 9)"
      ]
     },
     "execution_count": 12,
     "metadata": {},
     "output_type": "execute_result"
    }
   ],
   "source": [
    "# Comprobación de la Correcta Eliminación\n",
    "data_v2.shape"
   ]
  },
  {
   "cell_type": "code",
   "execution_count": 13,
   "metadata": {},
   "outputs": [],
   "source": [
    "# Añadir la actualización a la Lista de Datasets\n",
    "datasets.append((data_v2, \"Duplicados Eliminados\"))"
   ]
  },
  {
   "cell_type": "markdown",
   "metadata": {},
   "source": [
    "## Identificación de Outliers\n",
    "\n",
    "### Identificación Visual\n",
    "\n",
    "Para la identificación visual se usarán tanto histogramas como diagramas de caja y bigotes."
   ]
  },
  {
   "cell_type": "code",
   "execution_count": 14,
   "metadata": {},
   "outputs": [
    {
     "data": {
      "image/png": "[encoded data removed]",
      "text/plain": [
       "<Figure size 1200x500 with 10 Axes>"
      ]
     },
     "metadata": {},
     "output_type": "display_data"
    }
   ],
   "source": [
    "# Creación de Matriz para Visualizar las Distribuciones de las Variables\n",
    "fig, axes = plt.subplots(nrows=2, ncols=5, figsize=(12, 5))\n",
    "axes = axes.flat\n",
    "\n",
    "for i, column in enumerate(data_v2.columns):\n",
    "    \n",
    "    sns.histplot(data = data_v2, x = column,\n",
    "                kde = True, color = (list(plt.rcParams['axes.prop_cycle'])*2)[i][\"color\"], \n",
    "                ax = axes[i], bins = 'sturges')\n",
    "    \n",
    "    axes[i].set_title(column, fontsize = 10)\n",
    "    axes[i].tick_params(labelsize = 8)\n",
    "    axes[i].set_xlabel(\"\")\n",
    "    axes[i].set_ylabel(\"\")\n",
    "\n",
    "plt.suptitle('Histogramas')\n",
    "plt.tight_layout()\n",
    "plt.show()"
   ]
  },
  {
   "cell_type": "code",
   "execution_count": 15,
   "metadata": {},
   "outputs": [
    {
     "data": {
      "image/png": "[encoded data removed]",
      "text/plain": [
       "<Figure size 1200x500 with 10 Axes>"
      ]
     },
     "metadata": {},
     "output_type": "display_data"
    }
   ],
   "source": [
    "# Creación de Otra Matriz para Visualizar las Distribuciones de las Variables\n",
    "fig, axes = plt.subplots(nrows=2, ncols=5, figsize=(12, 5))\n",
    "axes = axes.flat\n",
    "\n",
    "for i, column in enumerate(data_v2.columns):\n",
    "    \n",
    "    sns.boxplot(data = data_v2, x = column, ax=axes[i],\n",
    "                color = (list(plt.rcParams['axes.prop_cycle'])*2)[i][\"color\"],\n",
    "                flierprops = dict(marker='o', color='r', markersize=1))\n",
    "    \n",
    "    \n",
    "    axes[i].set_title(column, fontsize = 10)\n",
    "    axes[i].tick_params(labelsize = 8)\n",
    "    axes[i].set_xlabel(\"\")\n",
    "    axes[i].set_ylabel(\"\")\n",
    "\n",
    "plt.suptitle('Diagramas de Cajas y Bigotes')\n",
    "plt.tight_layout()\n",
    "plt.show()"
   ]
  },
  {
   "cell_type": "markdown",
   "metadata": {},
   "source": [
    "### Identificación Estadística\n",
    "\n",
    "Para la identificación estadística se usará el método Z-Score y el método IQR."
   ]
  },
  {
   "cell_type": "code",
   "execution_count": 16,
   "metadata": {},
   "outputs": [],
   "source": [
    "# Z-Score\n",
    "# Tipificación del dataset\n",
    "\n",
    "data_v3 = data_v2.copy()\n",
    "data_v3 = data_v3.apply(zscore)\n",
    "\n",
    "# Añadir la Actualización a la Lista\n",
    "datasets.append((data_v3, 'Dataset tipificado'))"
   ]
  },
  {
   "cell_type": "code",
   "execution_count": 17,
   "metadata": {},
   "outputs": [
    {
     "data": {
      "text/html": [
       "<div>\n",
       "<style scoped>\n",
       "    .dataframe tbody tr th:only-of-type {\n",
       "        vertical-align: middle;\n",
       "    }\n",
       "\n",
       "    .dataframe tbody tr th {\n",
       "        vertical-align: top;\n",
       "    }\n",
       "\n",
       "    .dataframe thead th {\n",
       "        text-align: right;\n",
       "    }\n",
       "</style>\n",
       "<table border=\"1\" class=\"dataframe\">\n",
       "  <thead>\n",
       "    <tr style=\"text-align: right;\">\n",
       "      <th></th>\n",
       "      <th>Columna</th>\n",
       "      <th>Indices</th>\n",
       "      <th>No Outliers</th>\n",
       "    </tr>\n",
       "  </thead>\n",
       "  <tbody>\n",
       "    <tr>\n",
       "      <th>0</th>\n",
       "      <td>Age</td>\n",
       "      <td>[2, 3, 4, 6, 12, 17, 24, 25, 26, 30, 31, 33, 3...</td>\n",
       "      <td>33</td>\n",
       "    </tr>\n",
       "    <tr>\n",
       "      <th>1</th>\n",
       "      <td>Blast Furnace Slag</td>\n",
       "      <td>[529, 535, 547, 560]</td>\n",
       "      <td>4</td>\n",
       "    </tr>\n",
       "    <tr>\n",
       "      <th>2</th>\n",
       "      <td>Superplasticizer</td>\n",
       "      <td>[76, 78, 94, 96, 113, 115, 131, 133, 149, 151]</td>\n",
       "      <td>10</td>\n",
       "    </tr>\n",
       "    <tr>\n",
       "      <th>3</th>\n",
       "      <td>Water</td>\n",
       "      <td>[848, 911]</td>\n",
       "      <td>2</td>\n",
       "    </tr>\n",
       "  </tbody>\n",
       "</table>\n",
       "</div>"
      ],
      "text/plain": [
       "              Columna                                            Indices  \\\n",
       "0                 Age  [2, 3, 4, 6, 12, 17, 24, 25, 26, 30, 31, 33, 3...   \n",
       "1  Blast Furnace Slag                               [529, 535, 547, 560]   \n",
       "2    Superplasticizer     [76, 78, 94, 96, 113, 115, 131, 133, 149, 151]   \n",
       "3               Water                                         [848, 911]   \n",
       "\n",
       "   No Outliers  \n",
       "0           33  \n",
       "1            4  \n",
       "2           10  \n",
       "3            2  "
      ]
     },
     "execution_count": 17,
     "metadata": {},
     "output_type": "execute_result"
    }
   ],
   "source": [
    "# Identificar Outliers y Almacenar Índices y Columnas\n",
    "outliers_info_z = []\n",
    "\n",
    "threshold = 3\n",
    "\n",
    "for column in data_v3.columns:\n",
    "    outliers = data_v3[(data_v3[column] > threshold) | (data_v3[column] < -threshold)][column]\n",
    "    for idx, value in outliers.items():\n",
    "        outliers_info_z.append((idx, column))\n",
    "\n",
    "df_outliers_z = pd.DataFrame(outliers_info_z).groupby(1)[0].apply(list).reset_index()\n",
    "df_outliers_z.columns = ['Columna', 'Indices']\n",
    "df_outliers_z['No Outliers'] = pd.DataFrame(outliers_info_z).groupby(1).size().values\n",
    "df_outliers_z"
   ]
  },
  {
   "cell_type": "code",
   "execution_count": 18,
   "metadata": {},
   "outputs": [
    {
     "data": {
      "text/html": [
       "<div>\n",
       "<style scoped>\n",
       "    .dataframe tbody tr th:only-of-type {\n",
       "        vertical-align: middle;\n",
       "    }\n",
       "\n",
       "    .dataframe tbody tr th {\n",
       "        vertical-align: top;\n",
       "    }\n",
       "\n",
       "    .dataframe thead th {\n",
       "        text-align: right;\n",
       "    }\n",
       "</style>\n",
       "<table border=\"1\" class=\"dataframe\">\n",
       "  <thead>\n",
       "    <tr style=\"text-align: right;\">\n",
       "      <th></th>\n",
       "      <th>Columna</th>\n",
       "      <th>Indices</th>\n",
       "      <th>No Outliers</th>\n",
       "    </tr>\n",
       "  </thead>\n",
       "  <tbody>\n",
       "    <tr>\n",
       "      <th>0</th>\n",
       "      <td>Age</td>\n",
       "      <td>[2, 3, 4, 6, 12, 17, 19, 20, 23, 24, 25, 26, 2...</td>\n",
       "      <td>59</td>\n",
       "    </tr>\n",
       "    <tr>\n",
       "      <th>1</th>\n",
       "      <td>Blast Furnace Slag</td>\n",
       "      <td>[529, 535]</td>\n",
       "      <td>2</td>\n",
       "    </tr>\n",
       "    <tr>\n",
       "      <th>2</th>\n",
       "      <td>Concrete compressive strength</td>\n",
       "      <td>[0, 136, 137, 141, 154, 158, 357, 359]</td>\n",
       "      <td>8</td>\n",
       "    </tr>\n",
       "    <tr>\n",
       "      <th>3</th>\n",
       "      <td>Fine Aggregate</td>\n",
       "      <td>[74, 92, 111, 129, 147]</td>\n",
       "      <td>5</td>\n",
       "    </tr>\n",
       "    <tr>\n",
       "      <th>4</th>\n",
       "      <td>Superplasticizer</td>\n",
       "      <td>[76, 78, 94, 96, 113, 115, 131, 133, 149, 151]</td>\n",
       "      <td>10</td>\n",
       "    </tr>\n",
       "    <tr>\n",
       "      <th>5</th>\n",
       "      <td>Water</td>\n",
       "      <td>[74, 92, 111, 129, 147, 200, 201, 202, 203, 20...</td>\n",
       "      <td>15</td>\n",
       "    </tr>\n",
       "  </tbody>\n",
       "</table>\n",
       "</div>"
      ],
      "text/plain": [
       "                         Columna  \\\n",
       "0                            Age   \n",
       "1             Blast Furnace Slag   \n",
       "2  Concrete compressive strength   \n",
       "3                 Fine Aggregate   \n",
       "4               Superplasticizer   \n",
       "5                          Water   \n",
       "\n",
       "                                             Indices  No Outliers  \n",
       "0  [2, 3, 4, 6, 12, 17, 19, 20, 23, 24, 25, 26, 2...           59  \n",
       "1                                         [529, 535]            2  \n",
       "2             [0, 136, 137, 141, 154, 158, 357, 359]            8  \n",
       "3                            [74, 92, 111, 129, 147]            5  \n",
       "4     [76, 78, 94, 96, 113, 115, 131, 133, 149, 151]           10  \n",
       "5  [74, 92, 111, 129, 147, 200, 201, 202, 203, 20...           15  "
      ]
     },
     "execution_count": 18,
     "metadata": {},
     "output_type": "execute_result"
    }
   ],
   "source": [
    "# Aplicación del método IQR\n",
    "\n",
    "outliers_info_iqr = []\n",
    "\n",
    "c = 1.5\n",
    "\n",
    "for column in data_v2.columns:\n",
    "    Q1 = data_v2[column].quantile(.25)\n",
    "    Q3 = data_v2[column].quantile(.75)\n",
    "    IQR =  Q3 - Q1\n",
    "    upper_threshold = Q3 + c * IQR\n",
    "    lower_threshold = Q1 - c * IQR\n",
    "\n",
    "    outliers = data_v2[(data_v2[column] > upper_threshold) | (data_v2[column] < lower_threshold)][column]\n",
    "    for index, value in outliers.items():\n",
    "        outliers_info_iqr.append((index, column))\n",
    "\n",
    "\n",
    "df_outliers_iqr = pd.DataFrame(outliers_info_iqr).groupby(1)[0].apply(list).reset_index()\n",
    "df_outliers_iqr.columns = ['Columna', 'Indices']\n",
    "df_outliers_iqr['No Outliers'] = pd.DataFrame(outliers_info_iqr).groupby(1).size().values\n",
    "df_outliers_iqr\n",
    "\n",
    "df_outliers_iqr"
   ]
  },
  {
   "cell_type": "markdown",
   "metadata": {},
   "source": [
    "De una manera superficial, se puede juzgar, a través de los histogramas, que las variables `Water`, `Coarse Aggregate` y `Fine Aggregate` siguen una distribución más o menos normal por lo que se seleccionarán como válidos los outliers determinados por el método Z-Score. Para las demás variables, al ser más asimétricas sus distribuciones, se seleccionarán los outliers determinados por el método IQR.\n",
    "\n",
    "No se seleccionarán los outliers de la variable `Concrete compressive strength` pues esta será usada como variable dependiente para el análisis posterior."
   ]
  },
  {
   "cell_type": "code",
   "execution_count": 19,
   "metadata": {},
   "outputs": [
    {
     "data": {
      "text/html": [
       "<div>\n",
       "<style scoped>\n",
       "    .dataframe tbody tr th:only-of-type {\n",
       "        vertical-align: middle;\n",
       "    }\n",
       "\n",
       "    .dataframe tbody tr th {\n",
       "        vertical-align: top;\n",
       "    }\n",
       "\n",
       "    .dataframe thead th {\n",
       "        text-align: right;\n",
       "    }\n",
       "</style>\n",
       "<table border=\"1\" class=\"dataframe\">\n",
       "  <thead>\n",
       "    <tr style=\"text-align: right;\">\n",
       "      <th></th>\n",
       "      <th>Columna</th>\n",
       "      <th>Indices</th>\n",
       "      <th>No Outliers</th>\n",
       "    </tr>\n",
       "  </thead>\n",
       "  <tbody>\n",
       "    <tr>\n",
       "      <th>0</th>\n",
       "      <td>Age</td>\n",
       "      <td>[2, 3, 4, 6, 12, 17, 19, 20, 23, 24, 25, 26, 2...</td>\n",
       "      <td>59</td>\n",
       "    </tr>\n",
       "    <tr>\n",
       "      <th>1</th>\n",
       "      <td>Blast Furnace Slag</td>\n",
       "      <td>[529, 535]</td>\n",
       "      <td>2</td>\n",
       "    </tr>\n",
       "    <tr>\n",
       "      <th>2</th>\n",
       "      <td>Superplasticizer</td>\n",
       "      <td>[76, 78, 94, 96, 113, 115, 131, 133, 149, 151]</td>\n",
       "      <td>10</td>\n",
       "    </tr>\n",
       "    <tr>\n",
       "      <th>3</th>\n",
       "      <td>Water</td>\n",
       "      <td>[848, 911]</td>\n",
       "      <td>2</td>\n",
       "    </tr>\n",
       "  </tbody>\n",
       "</table>\n",
       "</div>"
      ],
      "text/plain": [
       "              Columna                                            Indices  \\\n",
       "0                 Age  [2, 3, 4, 6, 12, 17, 19, 20, 23, 24, 25, 26, 2...   \n",
       "1  Blast Furnace Slag                                         [529, 535]   \n",
       "2    Superplasticizer     [76, 78, 94, 96, 113, 115, 131, 133, 149, 151]   \n",
       "3               Water                                         [848, 911]   \n",
       "\n",
       "   No Outliers  \n",
       "0           59  \n",
       "1            2  \n",
       "2           10  \n",
       "3            2  "
      ]
     },
     "execution_count": 19,
     "metadata": {},
     "output_type": "execute_result"
    }
   ],
   "source": [
    "# Seleccionar Variables por Método y Unir Datasets\n",
    "\n",
    "filtered_df_outliers_iqr = df_outliers_iqr[~df_outliers_iqr['Columna'].isin(['Water', 'Coarse Aggregate', 'Fine Aggregate', 'Concrete compressive strength'])]\n",
    "filtered_df_outliers_z = df_outliers_z[df_outliers_z['Columna'].isin(['Water', 'Coarse Aggregate', 'Fine Aggregate', 'Concrete compressive strength'])]\n",
    "combined_outlier_df = pd.concat([filtered_df_outliers_iqr, filtered_df_outliers_z]).reset_index(drop = True)\n",
    "combined_outlier_df"
   ]
  },
  {
   "cell_type": "markdown",
   "metadata": {},
   "source": [
    "### Imputación de Outliers"
   ]
  },
  {
   "cell_type": "code",
   "execution_count": 20,
   "metadata": {},
   "outputs": [],
   "source": [
    "# Imputación por la Mediana\n",
    "data_v4 = data_v2.copy()\n",
    "for _, row in combined_outlier_df.iterrows():\n",
    "    column = row['Columna']\n",
    "    indices = row['Indices']\n",
    "    median_value = data_v4[column].median()\n",
    "    data_v4.loc[indices, column] = median_value\n",
    "datasets.append((data_v4, 'Outliers imputados con mediana'))"
   ]
  },
  {
   "cell_type": "code",
   "execution_count": 21,
   "metadata": {},
   "outputs": [],
   "source": [
    "# Imputación por la Media\n",
    "data_v5 = data_v2.copy()\n",
    "for _, row in combined_outlier_df.iterrows():\n",
    "    column = row['Columna']\n",
    "    indices = row['Indices']\n",
    "    mean_value = data_v5[column].mean()\n",
    "    data_v5.loc[indices, column] = mean_value\n",
    "datasets.append((data_v5, 'Outliers imputados con media'))"
   ]
  },
  {
   "cell_type": "code",
   "execution_count": 22,
   "metadata": {},
   "outputs": [],
   "source": [
    "# Imputación por KNN\n",
    "data_v6 = data_v2.copy()\n",
    "for _, row in combined_outlier_df.iterrows():\n",
    "    column = row['Columna']\n",
    "    indices = row['Indices']\n",
    "    data_v6.loc[indices, column] = np.nan\n",
    "\n",
    "knn_imputer = KNNImputer(n_neighbors=5)\n",
    "data_v6 = data_v6.drop(columns = ['Concrete compressive strength'])\n",
    "data_v6_imputed_array = knn_imputer.fit_transform(data_v6)\n",
    "data_v6 = pd.DataFrame(data_v6_imputed_array, columns = data_v6.columns)\n",
    "data_v6['Concrete compressive strength'] = data_v2['Concrete compressive strength']\n",
    "data_v6['Age'] = data_v6['Age'].astype(data_v2['Age'].dtype)\n",
    "\n",
    "datasets.append((data_v6, 'Outliers imputados con KNN'))"
   ]
  },
  {
   "cell_type": "code",
   "execution_count": 23,
   "metadata": {},
   "outputs": [],
   "source": [
    "# Imputación por Regresión Múltiple\n",
    "data_v7 = data_v2.copy()\n",
    "for _, row in combined_outlier_df.iterrows():\n",
    "    column = row['Columna']\n",
    "    indices = row['Indices']\n",
    "    data_v7.loc[indices, column] = np.nan\n",
    "\n",
    "linear_regression_imputer = IterativeImputer(estimator=LinearRegression(), max_iter=10, random_state=0)\n",
    "data_v7 = data_v7.drop(columns = ['Concrete compressive strength'])\n",
    "data_v7_imputed_array = linear_regression_imputer.fit_transform(data_v7)\n",
    "data_v7 = pd.DataFrame(data_v6_imputed_array, columns = data_v7.columns)\n",
    "data_v7['Concrete compressive strength'] = data_v2['Concrete compressive strength']\n",
    "data_v7['Age'] = data_v7['Age'].astype(data_v2['Age'].dtype)\n",
    "\n",
    "datasets.append((data_v7, 'Outliers imputados con Regresión Lineal'))"
   ]
  },
  {
   "cell_type": "code",
   "execution_count": 24,
   "metadata": {},
   "outputs": [],
   "source": [
    "# Imputación por Árboles \n",
    "data_v8 = data_v2.copy()\n",
    "for _, row in combined_outlier_df.iterrows():\n",
    "    column = row['Columna']\n",
    "    indices = row['Indices']\n",
    "    data_v8.loc[indices, column] = np.nan\n",
    "\n",
    "tree_regression_imputer = IterativeImputer(estimator=DecisionTreeRegressor(), max_iter=20, random_state=0)\n",
    "data_v8 = data_v8.drop(columns = ['Concrete compressive strength'])\n",
    "data_v8_imputed_array = tree_regression_imputer.fit_transform(data_v8)\n",
    "data_v8 = pd.DataFrame(data_v8_imputed_array, columns = data_v8.columns)\n",
    "data_v8['Concrete compressive strength'] = data_v2['Concrete compressive strength']\n",
    "data_v8['Age'] = data_v8['Age'].astype(data_v2['Age'].dtype)\n",
    "\n",
    "datasets.append((data_v8, 'Outliers imputados con Árboles de Regresión'))"
   ]
  },
  {
   "cell_type": "markdown",
   "metadata": {},
   "source": [
    "## Ajuste de Modelos\n",
    "\n",
    "Se ajustarán el dataset con outliers y los diferentes datasets con imputaciones a diferentes modelos predictivos para, a través de las métricas de evaluación de estos, poder formar una opinión sobre el mejor método de imputación.\n",
    "\n",
    "Los métodos utilizados serán:\n",
    "\n",
    "- Regresión Lineal.\n",
    "- Árboles de Decisión.\n",
    "- Bosques Aleatorios.\n",
    "- KNN.\n",
    "- SVR.\n",
    "- Regresión Ridge.\n",
    "- Regresión Lasso.\n",
    "\n",
    "Las métricas para calcular la bondad de la predicción serán:\n",
    "\n",
    "- MSE.\n",
    "- RMSE.\n",
    "- MAE.\n",
    "- $R^2$."
   ]
  },
  {
   "cell_type": "code",
   "execution_count": 25,
   "metadata": {},
   "outputs": [
    {
     "name": "stdout",
     "output_type": "stream",
     "text": [
      "    Dataset              Model         MSE        MAE       RMSE       R^2\n",
      "0         1  Linear Regression   97.634579   7.946295   9.881021  0.627759\n",
      "1         1      Decision Tree   39.841107   4.128102   6.311981  0.848102\n",
      "2         1      Random Forest   23.658900   3.554456   4.864042  0.909798\n",
      "3         1                KNN   72.861009   6.453420   8.535866  0.722210\n",
      "4         1                SVR  189.037985  11.185690  13.749109  0.279274\n",
      "5         1   Ridge Regression   97.634736   7.946300   9.881029  0.627758\n",
      "6         1   Lasso Regression   98.099504   7.963472   9.904519  0.625986\n",
      "7         2  Linear Regression   81.596632   6.705496   9.033085  0.688905\n",
      "8         2      Decision Tree   42.764703   4.389379   6.539473  0.836955\n",
      "9         2      Random Forest   25.094572   3.778102   5.009448  0.904324\n",
      "10        2                KNN   75.820130   6.619674   8.707476  0.710928\n",
      "11        2                SVR  192.327925  11.404718  13.868234  0.266731\n",
      "12        2   Ridge Regression   81.596829   6.705504   9.033096  0.688904\n",
      "13        2   Lasso Regression   82.114995   6.727101   9.061732  0.686928\n",
      "14        3  Linear Regression   74.192445   6.436589   8.613504  0.717134\n",
      "15        3      Decision Tree   41.810085   4.250755   6.466072  0.840595\n",
      "16        3      Random Forest   24.013118   3.621800   4.900318  0.908448\n",
      "17        3                KNN   71.367148   6.412464   8.447908  0.727906\n",
      "18        3                SVR  191.604659  11.378065  13.842133  0.269488\n",
      "19        3   Ridge Regression   74.192638   6.436594   8.613515  0.717133\n",
      "20        3   Lasso Regression   74.719387   6.455488   8.644038  0.715125\n",
      "21        4  Linear Regression   70.589454   6.396662   8.401753  0.730871\n",
      "22        4      Decision Tree   41.491255   4.164326   6.441371  0.841811\n",
      "23        4      Random Forest   25.043394   3.710907   5.004338  0.904520\n",
      "24        4                KNN   74.359580   6.560585   8.623200  0.716497\n",
      "25        4                SVR  191.617191  11.383904  13.842586  0.269441\n",
      "26        4   Ridge Regression   70.589632   6.396667   8.401764  0.730870\n",
      "27        4   Lasso Regression   71.027665   6.413777   8.427791  0.729200\n",
      "28        5  Linear Regression   70.589454   6.396662   8.401753  0.730871\n",
      "29        5      Decision Tree   41.491255   4.164326   6.441371  0.841811\n",
      "30        5      Random Forest   25.043394   3.710907   5.004338  0.904520\n",
      "31        5                KNN   74.359580   6.560585   8.623200  0.716497\n",
      "32        5                SVR  191.617191  11.383904  13.842586  0.269441\n",
      "33        5   Ridge Regression   70.589632   6.396667   8.401764  0.730870\n",
      "34        5   Lasso Regression   71.027665   6.413777   8.427791  0.729200\n",
      "35        6  Linear Regression   69.862631   6.413717   8.358387  0.733642\n",
      "36        6      Decision Tree   40.145298   4.169787   6.336032  0.846942\n",
      "37        6      Random Forest   25.890526   3.746846   5.088273  0.901290\n",
      "38        6                KNN   73.319590   6.505865   8.562686  0.720462\n",
      "39        6                SVR  191.087867  11.362810  13.823454  0.271459\n",
      "40        6   Ridge Regression   69.862693   6.413720   8.358391  0.733642\n",
      "41        6   Lasso Regression   70.643519   6.448361   8.404970  0.730665\n"
     ]
    }
   ],
   "source": [
    "# Definición de Modelos a Usar\n",
    "models = {\n",
    "    'Linear Regression': LinearRegression(),\n",
    "    'Decision Tree': DecisionTreeRegressor(random_state=0),\n",
    "    'Random Forest': RandomForestRegressor(random_state=0),\n",
    "    'KNN': KNeighborsRegressor(),\n",
    "    'SVR': SVR(),\n",
    "    'Ridge Regression': Ridge(),\n",
    "    'Lasso Regression': Lasso()\n",
    "}\n",
    "\n",
    "# Creación de una Lista que Contendrá los Resultados\n",
    "results = []\n",
    "\n",
    "# Ajustar cada Modelo a cada Dataset y Calcular sus Métricas\n",
    "for dataset_idx, df in enumerate([data_v2, data_v4, data_v5, data_v6, data_v7, data_v8]):\n",
    "    X = df.drop(columns=['Concrete compressive strength'])\n",
    "    y = df['Concrete compressive strength']\n",
    "\n",
    "    X_train, X_test, y_train, y_test = train_test_split(X, y, test_size=0.2, random_state=0)\n",
    "    \n",
    "    for model_name, model in models.items():\n",
    "        model.fit(X_train, y_train)\n",
    "        y_pred = model.predict(X_test)\n",
    "        \n",
    "        mse = mean_squared_error(y_test, y_pred)\n",
    "        mae = mean_absolute_error(y_test, y_pred)\n",
    "        rmse = math.sqrt(mse)\n",
    "        r2 = r2_score(y_test, y_pred)\n",
    "        \n",
    "        results.append({\n",
    "            'Dataset': dataset_idx + 1,\n",
    "            'Model': model_name,\n",
    "            'MSE': mse,\n",
    "            'MAE': mae,\n",
    "            'RMSE': rmse,\n",
    "            'R^2': r2\n",
    "        })\n",
    "\n",
    "# Convertir Resultados a DataFrame para mejorar la Visualización\n",
    "results_df = pd.DataFrame(results)\n",
    "print(results_df)"
   ]
  },
  {
   "cell_type": "markdown",
   "metadata": {},
   "source": [
    "## Evaluación de Resultados y Conclusiones.\n",
    "\n",
    "En este último apartado se creará un gráfico de barras agrupadas por dataset, modelo y métrica además de un sumario de las 4 métricas agrupadas por media de cada modelo para cada dataset para así poder definir unas conclusiones.\n",
    "\n",
    "### Nomenclatura de Datasets\n",
    "\n",
    "- **Dataset 1**: Sin tratamiento de outliers.\n",
    "- **Dataset 2**: Outliers imputados a través de la mediana.\n",
    "- **Dataset 3**: Outliers imputados a través de la media.\n",
    "- **Dataset 4**: Outliers imputados a través del método KNN.\n",
    "- **Dataset 5**: Outliers imputados a través del método de regresión lineal múltiple.\n",
    "- **Dataset 6**: Outliers imputados a través del método de regresión por árboles."
   ]
  },
  {
   "cell_type": "code",
   "execution_count": 26,
   "metadata": {},
   "outputs": [
    {
     "data": {
      "image/png": "[encoded data removed]",
      "text/plain": [
       "<Figure size 1400x600 with 4 Axes>"
      ]
     },
     "metadata": {},
     "output_type": "display_data"
    }
   ],
   "source": [
    "# Creación del Gráfico de Barras Agrupadas\n",
    "fig, axes = plt.subplots(2, 2, figsize=(14, 6))\n",
    "\n",
    "# Gráfico para MSE\n",
    "sns.barplot(ax=axes[0, 0], x='Dataset', y='MSE', hue='Model', data=results_df)\n",
    "axes[0, 0].set_title('MSE por Modelo y Dataset')\n",
    "axes[0, 0].set_ylabel('MSE')\n",
    "axes[0, 0].set_xlabel('Dataset')\n",
    "\n",
    "# Gráfico para MAE\n",
    "sns.barplot(ax=axes[0, 1], x='Dataset', y='MAE', hue='Model', data=results_df)\n",
    "axes[0, 1].set_title('MAE por Modelo y Dataset')\n",
    "axes[0, 1].set_ylabel('MAE')\n",
    "axes[0, 1].set_xlabel('Dataset')\n",
    "\n",
    "# Gráfico para RMSE\n",
    "sns.barplot(ax=axes[1, 0], x='Dataset', y='RMSE', hue='Model', data=results_df)\n",
    "axes[1, 0].set_title('RMSE por Modelo y Dataset')\n",
    "axes[1, 0].set_ylabel('RMSE')\n",
    "axes[1, 0].set_xlabel('Dataset')\n",
    "\n",
    "# Gráfico para R^2\n",
    "sns.barplot(ax=axes[1, 1], x='Dataset', y='R^2', hue='Model', data=results_df)\n",
    "axes[1, 1].set_title('R^2 por Modelo y Dataset')\n",
    "axes[1, 1].set_ylabel('R^2')\n",
    "axes[1, 1].set_xlabel('Dataset')\n",
    "\n",
    "for ax in axes.flatten():\n",
    "    ax.legend().remove()\n",
    "\n",
    "handles, labels = axes[0, 0].get_legend_handles_labels()\n",
    "fig.legend(handles, labels, loc='upper center', bbox_to_anchor=(0.5, 1.15), ncol=3)\n",
    "\n",
    "# Ajustar el diseño\n",
    "plt.tight_layout()\n",
    "plt.show()"
   ]
  },
  {
   "cell_type": "code",
   "execution_count": 27,
   "metadata": {},
   "outputs": [
    {
     "name": "stderr",
     "output_type": "stream",
     "text": [
      "C:\\Users\\Fer\\AppData\\Local\\Temp\\ipykernel_7900\\927703570.py:2: FutureWarning: The default value of numeric_only in DataFrameGroupBy.mean is deprecated. In a future version, numeric_only will default to False. Either specify numeric_only or select only columns which should be valid for the function.\n",
      "  summary_by_dataset = results_df.groupby('Dataset').mean().reset_index()\n"
     ]
    },
    {
     "data": {
      "text/html": [
       "<div>\n",
       "<style scoped>\n",
       "    .dataframe tbody tr th:only-of-type {\n",
       "        vertical-align: middle;\n",
       "    }\n",
       "\n",
       "    .dataframe tbody tr th {\n",
       "        vertical-align: top;\n",
       "    }\n",
       "\n",
       "    .dataframe thead th {\n",
       "        text-align: right;\n",
       "    }\n",
       "</style>\n",
       "<table border=\"1\" class=\"dataframe\">\n",
       "  <thead>\n",
       "    <tr style=\"text-align: right;\">\n",
       "      <th></th>\n",
       "      <th>Dataset</th>\n",
       "      <th>MSE</th>\n",
       "      <th>MAE</th>\n",
       "      <th>RMSE</th>\n",
       "      <th>R^2</th>\n",
       "    </tr>\n",
       "  </thead>\n",
       "  <tbody>\n",
       "    <tr>\n",
       "      <th>0</th>\n",
       "      <td>1</td>\n",
       "      <td>88.395403</td>\n",
       "      <td>7.025391</td>\n",
       "      <td>9.018224</td>\n",
       "      <td>0.662984</td>\n",
       "    </tr>\n",
       "    <tr>\n",
       "      <th>1</th>\n",
       "      <td>2</td>\n",
       "      <td>83.045112</td>\n",
       "      <td>6.618568</td>\n",
       "      <td>8.750364</td>\n",
       "      <td>0.683382</td>\n",
       "    </tr>\n",
       "    <tr>\n",
       "      <th>2</th>\n",
       "      <td>3</td>\n",
       "      <td>78.842783</td>\n",
       "      <td>6.427393</td>\n",
       "      <td>8.503927</td>\n",
       "      <td>0.699404</td>\n",
       "    </tr>\n",
       "    <tr>\n",
       "      <th>3</th>\n",
       "      <td>4</td>\n",
       "      <td>77.816882</td>\n",
       "      <td>6.432404</td>\n",
       "      <td>8.448972</td>\n",
       "      <td>0.703315</td>\n",
       "    </tr>\n",
       "    <tr>\n",
       "      <th>4</th>\n",
       "      <td>5</td>\n",
       "      <td>77.816882</td>\n",
       "      <td>6.432404</td>\n",
       "      <td>8.448972</td>\n",
       "      <td>0.703315</td>\n",
       "    </tr>\n",
       "    <tr>\n",
       "      <th>5</th>\n",
       "      <td>6</td>\n",
       "      <td>77.258875</td>\n",
       "      <td>6.437301</td>\n",
       "      <td>8.418885</td>\n",
       "      <td>0.705443</td>\n",
       "    </tr>\n",
       "  </tbody>\n",
       "</table>\n",
       "</div>"
      ],
      "text/plain": [
       "   Dataset        MSE       MAE      RMSE       R^2\n",
       "0        1  88.395403  7.025391  9.018224  0.662984\n",
       "1        2  83.045112  6.618568  8.750364  0.683382\n",
       "2        3  78.842783  6.427393  8.503927  0.699404\n",
       "3        4  77.816882  6.432404  8.448972  0.703315\n",
       "4        5  77.816882  6.432404  8.448972  0.703315\n",
       "5        6  77.258875  6.437301  8.418885  0.705443"
      ]
     },
     "execution_count": 27,
     "metadata": {},
     "output_type": "execute_result"
    }
   ],
   "source": [
    "# Creación de un Dataset de Métricas para cada Imputación Agrupadas por Modelo\n",
    "summary_by_dataset = results_df.groupby('Dataset').mean().reset_index()\n",
    "summary_by_dataset"
   ]
  },
  {
   "cell_type": "markdown",
   "metadata": {},
   "source": [
    "### Observaciones Generales\n",
    "\n",
    "1. **Outliers Sin Tratar (Dataset 1)**\n",
    "   - **Métricas**: Presenta los valores más altos de MSE (88.40), MAE (7.03), y RMSE (9.02), y el valor más bajo de R² (0.66).\n",
    "   - **Conclusión**: Tratar los outliers es esencial, ya que no hacerlo resulta en un rendimiento significativamente peor en todos los modelos.\n",
    "\n",
    "2. **Imputación de la Mediana (Dataset 2)**\n",
    "   - **Métricas**: Mejora notable en todas las métricas con una disminución en MSE (83.05), MAE (6.62), RMSE (8.75), y un incremento en R² (0.68).\n",
    "   - **Conclusión**: La imputación de la mediana es efectiva para reducir el impacto de los outliers, resultando en un mejor rendimiento de los modelos de predicción.\n",
    "\n",
    "3. **Imputación con la Media (Dataset 3)**\n",
    "   - **Métricas**: Muestra una mejora en comparación con no tratar los outliers, con MSE (78.84), MAE (6.43), RMSE (8.50), y R² (0.70).\n",
    "   - **Conclusión**: Aunque la imputación con la media es efectiva, puede no ser tan robusta como la mediana en presencia de outliers extremos.\n",
    "\n",
    "4. **Imputación con KNN (Dataset 4)**\n",
    "   - **Métricas**: Similar a la media, con MSE (77.82), MAE (6.43), RMSE (8.45), y R² (0.70).\n",
    "   - **Conclusión**: La imputación con KNN mejora el rendimiento, pero puede no ser consistentemente superior a otros métodos.\n",
    "\n",
    "5. **Imputación por Regresión Lineal (Dataset 5)**\n",
    "   - **Métricas**: Presenta mejoras similares a KNN, con MSE (77.82), MAE (6.43), RMSE (8.45), y R² (0.70).\n",
    "   - **Conclusión**: La imputación por regresión lineal es efectiva, pero su desempeño depende de la correcta especificación del modelo.\n",
    "\n",
    "6. **Imputación por Árboles de Regresión (Dataset 6)**\n",
    "   - **Métricas**: Las mejores métricas agregadas, con el MSE más bajo (77.05), MAE (6.43), RMSE (8.40), y el R² más alto (0.71).\n",
    "   - **Conclusión**: Los métodos basados en árboles de regresión son los más efectivos para manejar outliers, proporcionando el mejor rendimiento general en todos los modelos.\n",
    "\n",
    "### Conclusiones Generales\n",
    "\n",
    "1. **Mejor Método de Imputación**:\n",
    "   - **Árboles de Regresión (Dataset 6)**: Proporcionan las mejoras más significativas en todas las métricas, siendo la opción más robusta y efectiva para el tratamiento de outliers para este dataset en concreto.\n",
    "\n",
    "2. **Alternativa Robusta**:\n",
    "   - **Imputación de la Mediana (Dataset 2)**: Ofrece una robustez y simplicidad sobresalientes, siendo una opción muy confiable para manejar outliers.\n",
    "\n",
    "3. **Métodos Menos Eficientes**:\n",
    "   - **Sin Tratamiento de Outliers (Dataset 1)**: Resulta en el peor rendimiento, destacando la importancia de tratar los outliers.\n",
    "   - **SVR**: No es adecuado para este análisis debido a sus altos errores y bajos valores de R² en todos los métodos de imputación.\n",
    "\n",
    "### Recomendaciones Finales\n",
    "Para un tratamiento eficaz de los outliers y mejorar el rendimiento de los modelos de predicción:\n",
    "- **Mejor Método**: Utilizar la imputación por árboles de regresión.\n",
    "- **Alternativa Robusta**: Considerar la imputación de la mediana para un enfoque simple y robusto.\n",
    "- **Evitar**: Evitar el uso de SVR debido a su mal desempeño en la presencia de outliers."
   ]
  }
 ],
 "metadata": {
  "kernelspec": {
   "display_name": "Python 3",
   "language": "python",
   "name": "python3"
  },
  "language_info": {
   "codemirror_mode": {
    "name": "ipython",
    "version": 3
   },
   "file_extension": ".py",
   "mimetype": "text/x-python",
   "name": "python",
   "nbconvert_exporter": "python",
   "pygments_lexer": "ipython3",
   "version": "3.11.2"
  }
 },
 "nbformat": 4,
 "nbformat_minor": 2
}
